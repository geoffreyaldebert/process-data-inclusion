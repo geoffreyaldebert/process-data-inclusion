{
 "cells": [
  {
   "cell_type": "code",
   "execution_count": 332,
   "id": "6fd4e8a0",
   "metadata": {},
   "outputs": [],
   "source": [
    "import pandas as pd\n",
    "import requests\n",
    "import json"
   ]
  },
  {
   "cell_type": "code",
   "execution_count": 333,
   "id": "2cddf0bd",
   "metadata": {},
   "outputs": [],
   "source": [
    "with open(\"services-inclusion-2023-08-07.json\", \"r\") as fp:\n",
    "    services = json.load(fp)"
   ]
  },
  {
   "cell_type": "code",
   "execution_count": 334,
   "id": "00698820",
   "metadata": {},
   "outputs": [],
   "source": [
    "with open(\"structures-inclusion-2023-08-07.json\", \"r\") as fp:\n",
    "    structures = json.load(fp)"
   ]
  },
  {
   "cell_type": "code",
   "execution_count": 447,
   "id": "1c1a110f",
   "metadata": {},
   "outputs": [],
   "source": [
    "def manage_dep(code):\n",
    "    val = None\n",
    "    if code[:2] == \"20\":\n",
    "        if code[:3] == \"200\" or \"201\":\n",
    "            val = \"2A\"\n",
    "        elif code[:3] == \"202\" or \"206\":\n",
    "            val = \"2B\"\n",
    "    elif code[:2] == \"97\":\n",
    "        val = code[:3]\n",
    "    else:\n",
    "        val = code[:2]\n",
    "    return val"
   ]
  },
  {
   "cell_type": "code",
   "execution_count": 393,
   "id": "f1b64d46",
   "metadata": {},
   "outputs": [],
   "source": [
    "def add_to_stats(stats, inclusion_object, property_name, value):\n",
    "    obj = {}\n",
    "    obj[property_name] = value\n",
    "    if inclusion_object[\"code_insee\"]:\n",
    "        obj[\"dep\"] = manage_dep(inclusion_object[\"code_insee\"])\n",
    "        stats.append(obj)\n",
    "    elif inclusion_object[\"code_postal\"]:\n",
    "        obj[\"dep\"] = manage_dep(inclusion_object[\"code_postal\"])\n",
    "        stats.append(obj)\n",
    "    return stats"
   ]
  },
  {
   "cell_type": "code",
   "execution_count": 394,
   "id": "dfe16a7d",
   "metadata": {},
   "outputs": [],
   "source": [
    "def get_stats(inclusion_objects, property_name, df_ref):\n",
    "    stats = []\n",
    "    for inclusion_object in inclusion_objects:\n",
    "        if inclusion_object[property_name]:\n",
    "            if type(inclusion_object[property_name]) == list:\n",
    "                for item in inclusion_object[property_name]:\n",
    "                    if item in df_ref[\"value\"].to_list():\n",
    "                        stats = add_to_stats(stats, inclusion_object, property_name, item)\n",
    "                    else:\n",
    "                        stats = add_to_stats(stats, inclusion_object, property_name, \"Non renseigné\")\n",
    "            else:\n",
    "                if inclusion_object[property_name] in df_ref[\"value\"].to_list():\n",
    "                    stats = add_to_stats(stats, inclusion_object, property_name, inclusion_object[property_name])\n",
    "                else:\n",
    "                    stats = add_to_stats(stats, inclusion_object, property_name, \"Non renseigné\")\n",
    "                    \n",
    "        else:\n",
    "            stats = add_to_stats(stats, inclusion_object, property_name, \"Non renseigné\")\n",
    "    return stats\n",
    "\n",
    "            "
   ]
  },
  {
   "cell_type": "code",
   "execution_count": 338,
   "id": "94be6549",
   "metadata": {},
   "outputs": [
    {
     "data": {
      "text/html": [
       "<div>\n",
       "<style scoped>\n",
       "    .dataframe tbody tr th:only-of-type {\n",
       "        vertical-align: middle;\n",
       "    }\n",
       "\n",
       "    .dataframe tbody tr th {\n",
       "        vertical-align: top;\n",
       "    }\n",
       "\n",
       "    .dataframe thead th {\n",
       "        text-align: right;\n",
       "    }\n",
       "</style>\n",
       "<table border=\"1\" class=\"dataframe\">\n",
       "  <thead>\n",
       "    <tr style=\"text-align: right;\">\n",
       "      <th></th>\n",
       "      <th>value</th>\n",
       "      <th>label</th>\n",
       "      <th>description</th>\n",
       "    </tr>\n",
       "  </thead>\n",
       "  <tbody>\n",
       "    <tr>\n",
       "      <th>0</th>\n",
       "      <td>60000-rebonds</td>\n",
       "      <td>60 000 rebonds</td>\n",
       "      <td>None</td>\n",
       "    </tr>\n",
       "    <tr>\n",
       "      <th>1</th>\n",
       "      <td>action-logement</td>\n",
       "      <td>Action logement</td>\n",
       "      <td>None</td>\n",
       "    </tr>\n",
       "    <tr>\n",
       "      <th>2</th>\n",
       "      <td>adie</td>\n",
       "      <td>Adie</td>\n",
       "      <td>None</td>\n",
       "    </tr>\n",
       "    <tr>\n",
       "      <th>3</th>\n",
       "      <td>afpa</td>\n",
       "      <td>AFPA</td>\n",
       "      <td>None</td>\n",
       "    </tr>\n",
       "    <tr>\n",
       "      <th>4</th>\n",
       "      <td>agefiph</td>\n",
       "      <td>AGEFIPH</td>\n",
       "      <td>None</td>\n",
       "    </tr>\n",
       "    <tr>\n",
       "      <th>...</th>\n",
       "      <td>...</td>\n",
       "      <td>...</td>\n",
       "      <td>...</td>\n",
       "    </tr>\n",
       "    <tr>\n",
       "      <th>77</th>\n",
       "      <td>unaf</td>\n",
       "      <td>Union nationale de l’aide aux familles</td>\n",
       "      <td>None</td>\n",
       "    </tr>\n",
       "    <tr>\n",
       "      <th>78</th>\n",
       "      <td>unai</td>\n",
       "      <td>UNAI</td>\n",
       "      <td>None</td>\n",
       "    </tr>\n",
       "    <tr>\n",
       "      <th>79</th>\n",
       "      <td>unccas</td>\n",
       "      <td>Union nationale des centres communaux d’action...</td>\n",
       "      <td>None</td>\n",
       "    </tr>\n",
       "    <tr>\n",
       "      <th>80</th>\n",
       "      <td>unea</td>\n",
       "      <td>UNEA</td>\n",
       "      <td>None</td>\n",
       "    </tr>\n",
       "    <tr>\n",
       "      <th>81</th>\n",
       "      <td>unis-cite</td>\n",
       "      <td>Unis-Cité</td>\n",
       "      <td>None</td>\n",
       "    </tr>\n",
       "  </tbody>\n",
       "</table>\n",
       "<p>82 rows × 3 columns</p>\n",
       "</div>"
      ],
      "text/plain": [
       "              value                                              label  \\\n",
       "0     60000-rebonds                                     60 000 rebonds   \n",
       "1   action-logement                                    Action logement   \n",
       "2              adie                                               Adie   \n",
       "3              afpa                                               AFPA   \n",
       "4           agefiph                                            AGEFIPH   \n",
       "..              ...                                                ...   \n",
       "77             unaf             Union nationale de l’aide aux familles   \n",
       "78             unai                                               UNAI   \n",
       "79           unccas  Union nationale des centres communaux d’action...   \n",
       "80             unea                                               UNEA   \n",
       "81        unis-cite                                          Unis-Cité   \n",
       "\n",
       "   description  \n",
       "0         None  \n",
       "1         None  \n",
       "2         None  \n",
       "3         None  \n",
       "4         None  \n",
       "..         ...  \n",
       "77        None  \n",
       "78        None  \n",
       "79        None  \n",
       "80        None  \n",
       "81        None  \n",
       "\n",
       "[82 rows x 3 columns]"
      ]
     },
     "execution_count": 338,
     "metadata": {},
     "output_type": "execute_result"
    }
   ],
   "source": [
    "labels"
   ]
  },
  {
   "cell_type": "code",
   "execution_count": 339,
   "id": "db85982c",
   "metadata": {},
   "outputs": [],
   "source": [
    "def stats_df(url, inclusion_objects, property_name):\n",
    "    r = requests.get(url)\n",
    "    df = pd.DataFrame(r.json())\n",
    "    stats = []\n",
    "    stats = get_stats(inclusion_objects, property_name, df)\n",
    "    stats = pd.DataFrame(stats)\n",
    "    stats[\"value\"] = 1\n",
    "    stats = stats.groupby([property_name, \"dep\"], as_index=False).count()\n",
    "    stats = stats.rename(columns={property_name: \"id\"})\n",
    "    stats = pd.merge(stats, df[[\"value\", \"label\"]].rename(columns={\"value\": \"id\"}), on=\"id\", how=\"left\")\n",
    "    stats[\"label\"] = stats[\"label\"].apply(lambda x: \"Non renseigné\" if x != x else x)\n",
    "    return stats"
   ]
  },
  {
   "cell_type": "markdown",
   "id": "87eef044",
   "metadata": {},
   "source": [
    "### Labels nationaux"
   ]
  },
  {
   "cell_type": "code",
   "execution_count": 351,
   "id": "0c93c538",
   "metadata": {},
   "outputs": [],
   "source": [
    "url = \"https://api.data.inclusion.beta.gouv.fr/api/v0/doc/labels-nationaux\"\n",
    "stats_labels = stats_df(url, structures, \"labels_nationaux\")\n",
    "stats_labels.to_json(\"outputs/stats_structures_labels_nationaux.json\", orient=\"records\")"
   ]
  },
  {
   "cell_type": "markdown",
   "id": "2dc200e4",
   "metadata": {},
   "source": [
    "### Typologie structure"
   ]
  },
  {
   "cell_type": "code",
   "execution_count": 352,
   "id": "6d233314",
   "metadata": {},
   "outputs": [],
   "source": [
    "url = \"https://api.data.inclusion.beta.gouv.fr/api/v0/doc/typologies-structures\"\n",
    "stats_types_structures = stats_df(url, structures, \"typologie\")\n",
    "stats_types_structures.to_json(\"outputs/stats_structures_typologie.json\", orient=\"records\")"
   ]
  },
  {
   "cell_type": "markdown",
   "id": "9a35aa05",
   "metadata": {},
   "source": [
    "### Thématiques"
   ]
  },
  {
   "cell_type": "code",
   "execution_count": 353,
   "id": "2eacd8f4",
   "metadata": {},
   "outputs": [],
   "source": [
    "url = \"https://api.data.inclusion.beta.gouv.fr/api/v0/doc/thematiques\"\n",
    "stats_thematiques = stats_df(url, services, \"thematiques\")\n",
    "stats_thematiques.to_json(\"outputs/stats_services_thematiques.json\", orient=\"records\")"
   ]
  },
  {
   "cell_type": "markdown",
   "id": "06a87899",
   "metadata": {},
   "source": [
    "### Typologie service"
   ]
  },
  {
   "cell_type": "code",
   "execution_count": 354,
   "id": "2c026f2c",
   "metadata": {},
   "outputs": [],
   "source": [
    "url = \"https://api.data.inclusion.beta.gouv.fr/api/v0/doc/typologies-services\"\n",
    "stats_types_services = stats_df(url, services, \"types\")\n",
    "stats_types_services.to_json(\"outputs/stats_services_types.json\", orient=\"records\")"
   ]
  },
  {
   "cell_type": "markdown",
   "id": "767c4d4c",
   "metadata": {},
   "source": [
    "### Frais"
   ]
  },
  {
   "cell_type": "code",
   "execution_count": 355,
   "id": "66315906",
   "metadata": {},
   "outputs": [],
   "source": [
    "url = \"https://api.data.inclusion.beta.gouv.fr/api/v0/doc/frais\"\n",
    "stats_frais = stats_df(url, services, \"frais\")\n",
    "stats_frais.to_json(\"outputs/stats_services_frais.json\", orient=\"records\")"
   ]
  },
  {
   "cell_type": "markdown",
   "id": "82039052",
   "metadata": {},
   "source": [
    "### Profils"
   ]
  },
  {
   "cell_type": "code",
   "execution_count": 356,
   "id": "df70a49e",
   "metadata": {},
   "outputs": [],
   "source": [
    "url = \"https://api.data.inclusion.beta.gouv.fr/api/v0/doc/profils\"\n",
    "stats_profils = stats_df(url, services, \"profils\")\n",
    "stats_profils.to_json(\"outputs/stats_services_profils.json\", orient=\"records\")"
   ]
  },
  {
   "cell_type": "markdown",
   "id": "cd272e75",
   "metadata": {},
   "source": [
    "### Modes accueil"
   ]
  },
  {
   "cell_type": "code",
   "execution_count": 357,
   "id": "41e6ff96",
   "metadata": {},
   "outputs": [],
   "source": [
    "url = \"https://api.data.inclusion.beta.gouv.fr/api/v0/doc/modes-accueil\"\n",
    "stats_modes_accueil = stats_df(url, services, \"modes_accueil\")\n",
    "stats_modes_accueil.to_json(\"outputs/stats_services_modes_accueil.json\", orient=\"records\")"
   ]
  },
  {
   "cell_type": "markdown",
   "id": "ab3ca0c4",
   "metadata": {},
   "source": [
    "### Générales"
   ]
  },
  {
   "cell_type": "code",
   "execution_count": 442,
   "id": "a4498657",
   "metadata": {},
   "outputs": [],
   "source": [
    "master_object = { \"structure\": structures, \"service\": services }"
   ]
  },
  {
   "cell_type": "code",
   "execution_count": 448,
   "id": "77a62f46",
   "metadata": {},
   "outputs": [],
   "source": [
    "stats = []\n",
    "for item_object in master_object.keys():\n",
    "    for item in master_object[item_object]:\n",
    "        obj = {}\n",
    "        obj[\"type\"] = item_object\n",
    "        if item[\"code_insee\"]:\n",
    "            obj[\"dep\"] = manage_dep(item[\"code_insee\"])\n",
    "            stats.append(obj)\n",
    "        elif item[\"code_postal\"]:\n",
    "            obj[\"dep\"] = manage_dep(item[\"code_postal\"])\n",
    "            stats.append(obj)        \n",
    "        else:\n",
    "            obj[\"dep\"] = \"Non renseigné\"\n",
    "            stats.append(obj)\n",
    "\n",
    "stats = pd.DataFrame(stats)\n",
    "stats[\"value\"] = 1 \n",
    "stats = stats.groupby([\"dep\", \"type\"], as_index=False).count()\n",
    "stats.to_json(\"outputs/stats_general.json\", orient=\"records\")"
   ]
  },
  {
   "cell_type": "markdown",
   "id": "d74fd1b3",
   "metadata": {},
   "source": [
    "### Lat/lon par département"
   ]
  },
  {
   "cell_type": "code",
   "execution_count": 449,
   "id": "b73bd346",
   "metadata": {},
   "outputs": [],
   "source": [
    "def manage_geojson(master_object):\n",
    "    list_dep = []\n",
    "    geojson_deps = {}\n",
    "    geojson = {}\n",
    "    geojson[\"type\"] = \"FeatureCollection\"\n",
    "    geojson[\"properties\"] = {}\n",
    "    geojson[\"features\"] = []\n",
    "    for item_object in master_object.keys():\n",
    "        for item in master_object[item_object]:\n",
    "            if item[\"latitude\"] and item[\"longitude\"]:    \n",
    "                obj = {}\n",
    "                obj[\"properties\"] = {}\n",
    "                obj[\"geometry\"] = {}\n",
    "                obj[\"geometry\"][\"type\"] = \"Point\"\n",
    "                if item[\"code_insee\"]:\n",
    "                    obj[\"properties\"][\"dep\"] = manage_dep(item[\"code_insee\"])\n",
    "                elif item[\"code_postal\"]:\n",
    "                    obj[\"properties\"][\"dep\"] = manage_dep(item[\"code_postal\"])\n",
    "                obj[\"properties\"][\"source\"] = item[\"source\"]\n",
    "                obj[\"properties\"][\"id\"] = item[\"id\"]\n",
    "                obj[\"properties\"][\"type\"] = item_object\n",
    "                if item_object == \"structure\":\n",
    "                    obj[\"properties\"][\"labels\"] = item[\"labels_nationaux\"]\n",
    "                    obj[\"properties\"][\"typologie\"] = [item[\"typologie\"]]\n",
    "                if item_object == \"service\":\n",
    "                    obj[\"properties\"][\"thematiques\"] = item[\"thematiques\"]\n",
    "                    obj[\"properties\"][\"types\"] = item[\"types\"]\n",
    "                    obj[\"properties\"][\"frais\"] = item[\"frais\"]\n",
    "                    obj[\"properties\"][\"modes_accueil\"] = item[\"modes_accueil\"]\n",
    "                    obj[\"properties\"][\"profils\"] = item[\"profils\"]\n",
    "                \n",
    "                obj[\"geometry\"][\"coordinates\"] = [item[\"longitude\"], item[\"latitude\"]]\n",
    "                geojson[\"features\"].append(obj)\n",
    "                if obj[\"properties\"][\"dep\"] not in list_dep:\n",
    "                    list_dep.append(obj[\"properties\"][\"dep\"])\n",
    "                    geojson_deps[obj[\"properties\"][\"dep\"]] = {}\n",
    "                    geojson_deps[obj[\"properties\"][\"dep\"]] = {}\n",
    "                    geojson_deps[obj[\"properties\"][\"dep\"]][\"type\"] = \"FeatureCollection\"\n",
    "                    geojson_deps[obj[\"properties\"][\"dep\"]][\"properties\"] = {}\n",
    "                    geojson_deps[obj[\"properties\"][\"dep\"]][\"features\"] = []\n",
    "                geojson_deps[obj[\"properties\"][\"dep\"]][\"features\"].append(obj)\n",
    "    return geojson, geojson_deps"
   ]
  },
  {
   "cell_type": "markdown",
   "id": "8b979193",
   "metadata": {},
   "source": [
    "#### services and structures"
   ]
  },
  {
   "cell_type": "code",
   "execution_count": 450,
   "id": "91cca4f0",
   "metadata": {},
   "outputs": [],
   "source": [
    "geojson, geojson_deps = manage_geojson(master_object)"
   ]
  },
  {
   "cell_type": "code",
   "execution_count": 451,
   "id": "c34303b0",
   "metadata": {},
   "outputs": [],
   "source": [
    "with open(\"outputs/inclusion_france.geojson\", \"w\") as fp:\n",
    "    json.dump(geojson, fp)"
   ]
  },
  {
   "cell_type": "code",
   "execution_count": 452,
   "id": "bfbc02b6",
   "metadata": {},
   "outputs": [],
   "source": [
    "for item in geojson_deps.keys():\n",
    "    with open(f\"outputs/dep/inclusion_dep_{item}.geojson\", \"w\") as fp:\n",
    "        json.dump(geojson_deps[item], fp)"
   ]
  },
  {
   "cell_type": "code",
   "execution_count": null,
   "id": "a73d8cbc",
   "metadata": {},
   "outputs": [],
   "source": []
  }
 ],
 "metadata": {
  "kernelspec": {
   "display_name": "Python 3 (ipykernel)",
   "language": "python",
   "name": "python3"
  },
  "language_info": {
   "codemirror_mode": {
    "name": "ipython",
    "version": 3
   },
   "file_extension": ".py",
   "mimetype": "text/x-python",
   "name": "python",
   "nbconvert_exporter": "python",
   "pygments_lexer": "ipython3",
   "version": "3.8.12"
  }
 },
 "nbformat": 4,
 "nbformat_minor": 5
}
